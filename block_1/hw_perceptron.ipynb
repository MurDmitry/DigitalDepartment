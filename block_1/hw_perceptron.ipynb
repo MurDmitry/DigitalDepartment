{
 "cells": [
  {
   "cell_type": "markdown",
   "id": "c3608e28",
   "metadata": {},
   "source": [
    "# Домашнее задание №5. Перцептрон\n",
    "В этом задании не важно, насколько хорошими получатся результаты обучения. Пока важно лишь научиться обрабатывать данные и проводить обучение на них."
   ]
  },
  {
   "cell_type": "markdown",
   "id": "4ffd5ba4",
   "metadata": {},
   "source": [
    "## Задание 1\n",
    "Загрузите датасет Titanic с Kaggle по ссылке: https://www.kaggle.com/competitions/titanic/data?select=train.csv (пока ограничимся только train.csv). Создайте pandas.DataFrame для его хранения."
   ]
  },
  {
   "cell_type": "code",
   "execution_count": 12,
   "id": "d0e2c99d",
   "metadata": {},
   "outputs": [],
   "source": [
    "import pandas as pd"
   ]
  },
  {
   "cell_type": "code",
   "execution_count": 13,
   "id": "df6c8eda",
   "metadata": {},
   "outputs": [
    {
     "data": {
      "text/html": [
       "<div>\n",
       "<style scoped>\n",
       "    .dataframe tbody tr th:only-of-type {\n",
       "        vertical-align: middle;\n",
       "    }\n",
       "\n",
       "    .dataframe tbody tr th {\n",
       "        vertical-align: top;\n",
       "    }\n",
       "\n",
       "    .dataframe thead th {\n",
       "        text-align: right;\n",
       "    }\n",
       "</style>\n",
       "<table border=\"1\" class=\"dataframe\">\n",
       "  <thead>\n",
       "    <tr style=\"text-align: right;\">\n",
       "      <th></th>\n",
       "      <th>PassengerId</th>\n",
       "      <th>Survived</th>\n",
       "      <th>Pclass</th>\n",
       "      <th>Name</th>\n",
       "      <th>Sex</th>\n",
       "      <th>Age</th>\n",
       "      <th>SibSp</th>\n",
       "      <th>Parch</th>\n",
       "      <th>Ticket</th>\n",
       "      <th>Fare</th>\n",
       "      <th>Cabin</th>\n",
       "      <th>Embarked</th>\n",
       "    </tr>\n",
       "  </thead>\n",
       "  <tbody>\n",
       "    <tr>\n",
       "      <th>0</th>\n",
       "      <td>1</td>\n",
       "      <td>0</td>\n",
       "      <td>3</td>\n",
       "      <td>Braund, Mr. Owen Harris</td>\n",
       "      <td>male</td>\n",
       "      <td>22.0</td>\n",
       "      <td>1</td>\n",
       "      <td>0</td>\n",
       "      <td>A/5 21171</td>\n",
       "      <td>7.2500</td>\n",
       "      <td>NaN</td>\n",
       "      <td>S</td>\n",
       "    </tr>\n",
       "    <tr>\n",
       "      <th>1</th>\n",
       "      <td>2</td>\n",
       "      <td>1</td>\n",
       "      <td>1</td>\n",
       "      <td>Cumings, Mrs. John Bradley (Florence Briggs Th...</td>\n",
       "      <td>female</td>\n",
       "      <td>38.0</td>\n",
       "      <td>1</td>\n",
       "      <td>0</td>\n",
       "      <td>PC 17599</td>\n",
       "      <td>71.2833</td>\n",
       "      <td>C85</td>\n",
       "      <td>C</td>\n",
       "    </tr>\n",
       "    <tr>\n",
       "      <th>2</th>\n",
       "      <td>3</td>\n",
       "      <td>1</td>\n",
       "      <td>3</td>\n",
       "      <td>Heikkinen, Miss. Laina</td>\n",
       "      <td>female</td>\n",
       "      <td>26.0</td>\n",
       "      <td>0</td>\n",
       "      <td>0</td>\n",
       "      <td>STON/O2. 3101282</td>\n",
       "      <td>7.9250</td>\n",
       "      <td>NaN</td>\n",
       "      <td>S</td>\n",
       "    </tr>\n",
       "    <tr>\n",
       "      <th>3</th>\n",
       "      <td>4</td>\n",
       "      <td>1</td>\n",
       "      <td>1</td>\n",
       "      <td>Futrelle, Mrs. Jacques Heath (Lily May Peel)</td>\n",
       "      <td>female</td>\n",
       "      <td>35.0</td>\n",
       "      <td>1</td>\n",
       "      <td>0</td>\n",
       "      <td>113803</td>\n",
       "      <td>53.1000</td>\n",
       "      <td>C123</td>\n",
       "      <td>S</td>\n",
       "    </tr>\n",
       "    <tr>\n",
       "      <th>4</th>\n",
       "      <td>5</td>\n",
       "      <td>0</td>\n",
       "      <td>3</td>\n",
       "      <td>Allen, Mr. William Henry</td>\n",
       "      <td>male</td>\n",
       "      <td>35.0</td>\n",
       "      <td>0</td>\n",
       "      <td>0</td>\n",
       "      <td>373450</td>\n",
       "      <td>8.0500</td>\n",
       "      <td>NaN</td>\n",
       "      <td>S</td>\n",
       "    </tr>\n",
       "  </tbody>\n",
       "</table>\n",
       "</div>"
      ],
      "text/plain": [
       "   PassengerId  Survived  Pclass  \\\n",
       "0            1         0       3   \n",
       "1            2         1       1   \n",
       "2            3         1       3   \n",
       "3            4         1       1   \n",
       "4            5         0       3   \n",
       "\n",
       "                                                Name     Sex   Age  SibSp  \\\n",
       "0                            Braund, Mr. Owen Harris    male  22.0      1   \n",
       "1  Cumings, Mrs. John Bradley (Florence Briggs Th...  female  38.0      1   \n",
       "2                             Heikkinen, Miss. Laina  female  26.0      0   \n",
       "3       Futrelle, Mrs. Jacques Heath (Lily May Peel)  female  35.0      1   \n",
       "4                           Allen, Mr. William Henry    male  35.0      0   \n",
       "\n",
       "   Parch            Ticket     Fare Cabin Embarked  \n",
       "0      0         A/5 21171   7.2500   NaN        S  \n",
       "1      0          PC 17599  71.2833   C85        C  \n",
       "2      0  STON/O2. 3101282   7.9250   NaN        S  \n",
       "3      0            113803  53.1000  C123        S  \n",
       "4      0            373450   8.0500   NaN        S  "
      ]
     },
     "execution_count": 13,
     "metadata": {},
     "output_type": "execute_result"
    }
   ],
   "source": [
    "train_data = pd.read_csv(\"train.csv\")\n",
    "train_data.head()"
   ]
  },
  {
   "cell_type": "markdown",
   "id": "d39f761e",
   "metadata": {},
   "source": [
    "## Задание 2\n",
    "Преобразуйте DataFrame так, чтобы в нем остались только числовые данные. Некоторые незначащие столбцы можно исключить, некоторые надо просто преобразовать."
   ]
  },
  {
   "cell_type": "code",
   "execution_count": 14,
   "id": "c0b4dc19",
   "metadata": {},
   "outputs": [],
   "source": [
    "''' \n",
    "PassengerId - Число (оставляю)\n",
    "Survived - Число (оставляю)\n",
    "Pclass - Число (оставляю)\n",
    "Name - Строка (Убираю)\n",
    "Sex - Замена (1 - мужчина, 0 - женщина)\n",
    "Age - Число (оставляю) \n",
    "SibSp - Число (оставляю)\n",
    "Parch - Число (оставляю)\n",
    "Ticket - Строка (Убираю)\n",
    "Fare - Число (оставляю)\n",
    "Cabin - Строка (Убираю)\n",
    "Embarked - Строка (Убираю)\n",
    "'''\n",
    "train_data['Sex'] = (train_data['Sex'] == 'male').astype(int)"
   ]
  },
  {
   "cell_type": "code",
   "execution_count": 15,
   "id": "521aa1ec",
   "metadata": {},
   "outputs": [
    {
     "data": {
      "text/html": [
       "<div>\n",
       "<style scoped>\n",
       "    .dataframe tbody tr th:only-of-type {\n",
       "        vertical-align: middle;\n",
       "    }\n",
       "\n",
       "    .dataframe tbody tr th {\n",
       "        vertical-align: top;\n",
       "    }\n",
       "\n",
       "    .dataframe thead th {\n",
       "        text-align: right;\n",
       "    }\n",
       "</style>\n",
       "<table border=\"1\" class=\"dataframe\">\n",
       "  <thead>\n",
       "    <tr style=\"text-align: right;\">\n",
       "      <th></th>\n",
       "      <th>PassengerId</th>\n",
       "      <th>Survived</th>\n",
       "      <th>Pclass</th>\n",
       "      <th>Sex</th>\n",
       "      <th>Age</th>\n",
       "      <th>SibSp</th>\n",
       "      <th>Parch</th>\n",
       "      <th>Fare</th>\n",
       "    </tr>\n",
       "  </thead>\n",
       "  <tbody>\n",
       "    <tr>\n",
       "      <th>0</th>\n",
       "      <td>1</td>\n",
       "      <td>0</td>\n",
       "      <td>3</td>\n",
       "      <td>1</td>\n",
       "      <td>22.0</td>\n",
       "      <td>1</td>\n",
       "      <td>0</td>\n",
       "      <td>7.2500</td>\n",
       "    </tr>\n",
       "    <tr>\n",
       "      <th>1</th>\n",
       "      <td>2</td>\n",
       "      <td>1</td>\n",
       "      <td>1</td>\n",
       "      <td>0</td>\n",
       "      <td>38.0</td>\n",
       "      <td>1</td>\n",
       "      <td>0</td>\n",
       "      <td>71.2833</td>\n",
       "    </tr>\n",
       "    <tr>\n",
       "      <th>2</th>\n",
       "      <td>3</td>\n",
       "      <td>1</td>\n",
       "      <td>3</td>\n",
       "      <td>0</td>\n",
       "      <td>26.0</td>\n",
       "      <td>0</td>\n",
       "      <td>0</td>\n",
       "      <td>7.9250</td>\n",
       "    </tr>\n",
       "    <tr>\n",
       "      <th>3</th>\n",
       "      <td>4</td>\n",
       "      <td>1</td>\n",
       "      <td>1</td>\n",
       "      <td>0</td>\n",
       "      <td>35.0</td>\n",
       "      <td>1</td>\n",
       "      <td>0</td>\n",
       "      <td>53.1000</td>\n",
       "    </tr>\n",
       "    <tr>\n",
       "      <th>4</th>\n",
       "      <td>5</td>\n",
       "      <td>0</td>\n",
       "      <td>3</td>\n",
       "      <td>1</td>\n",
       "      <td>35.0</td>\n",
       "      <td>0</td>\n",
       "      <td>0</td>\n",
       "      <td>8.0500</td>\n",
       "    </tr>\n",
       "  </tbody>\n",
       "</table>\n",
       "</div>"
      ],
      "text/plain": [
       "   PassengerId  Survived  Pclass  Sex   Age  SibSp  Parch     Fare\n",
       "0            1         0       3    1  22.0      1      0   7.2500\n",
       "1            2         1       1    0  38.0      1      0  71.2833\n",
       "2            3         1       3    0  26.0      0      0   7.9250\n",
       "3            4         1       1    0  35.0      1      0  53.1000\n",
       "4            5         0       3    1  35.0      0      0   8.0500"
      ]
     },
     "execution_count": 15,
     "metadata": {},
     "output_type": "execute_result"
    }
   ],
   "source": [
    "train_data = train_data[['PassengerId', 'Survived', 'Pclass', 'Sex', 'Age', 'SibSp', 'Parch', 'Fare']].dropna()\n",
    "train_data.head()"
   ]
  },
  {
   "cell_type": "markdown",
   "id": "39753fcd",
   "metadata": {},
   "source": [
    "## Задание 3\n",
    "Разделите получившийся DataFrame на обучающую (80%) и тестовую выборку (20%). Отдельно выделите столбец, который модель будет предсказывать, у нас это будет столбец с данными о том, выжил ли пассажир."
   ]
  },
  {
   "cell_type": "code",
   "execution_count": 16,
   "id": "28b6d847",
   "metadata": {},
   "outputs": [],
   "source": [
    "from sklearn.model_selection import train_test_split"
   ]
  },
  {
   "cell_type": "code",
   "execution_count": 17,
   "id": "5590334a",
   "metadata": {},
   "outputs": [],
   "source": [
    "x = train_data.drop('Survived', axis=1)     # Входные параметры (все столбики, кроме Survived (потому что его надо предсказать))\n",
    "y = train_data['Survived']                  # Результаты (столбик Survived)\n",
    "\n",
    "# Разделение выборки на тестовую (20%) и обучающую (100-20=80%), random_state - для получения одних и тех же результатов\n",
    "x_train, x_test, y_train, y_test = train_test_split(x, y, test_size=0.2, random_state=42)"
   ]
  },
  {
   "cell_type": "markdown",
   "id": "a662ba6f",
   "metadata": {},
   "source": [
    "## Задание 4\n",
    "Используйте обучающую выборку для обучение перцептрона (используйте класс, написанный на семинаре, либо sklearn.linear_model.Perceptron). Выведите точность полученной модели на тестовой выборке."
   ]
  },
  {
   "cell_type": "code",
   "execution_count": 18,
   "id": "d84a6cc3",
   "metadata": {},
   "outputs": [],
   "source": [
    "from sklearn.linear_model import Perceptron\n",
    "from sklearn.metrics import accuracy_score"
   ]
  },
  {
   "cell_type": "code",
   "execution_count": 19,
   "id": "f28f59c5",
   "metadata": {},
   "outputs": [
    {
     "name": "stdout",
     "output_type": "stream",
     "text": [
      "Точность модели на тестовой выборке: 0.4125874125874126\n"
     ]
    }
   ],
   "source": [
    "model = Perceptron(max_iter=1000, random_state=42)\n",
    "model.fit(x_train, y_train)     # Обучение модели (1000 итераций), использую обучающую выборку: есть входные параметры (x_train) и ответы (столбец Survived в y_train)\n",
    "\n",
    "y_pred = model.predict(x_test)              # Теперь тестирую выборку: пытаюсь предсказать результаты на x_test. Получившиеся ответы записываю в y_pred\n",
    "accuracy = accuracy_score(y_test, y_pred)   # Сравниваю то что получилось (y_pred) и то что было в тестовых ответах (y_test)\n",
    "print(f'Точность модели на тестовой выборке: {accuracy}')   "
   ]
  },
  {
   "cell_type": "markdown",
   "id": "b464a3aa",
   "metadata": {},
   "source": [
    "**Оценка точности**"
   ]
  },
  {
   "cell_type": "code",
   "execution_count": 20,
   "id": "cd65be21",
   "metadata": {},
   "outputs": [],
   "source": [
    "from sklearn.metrics import confusion_matrix\n",
    "from sklearn.metrics import ConfusionMatrixDisplay\n",
    "from sklearn.metrics import classification_report\n",
    "\n",
    "import matplotlib.pyplot as plt  # Средство визуализации данных и построения графиков"
   ]
  },
  {
   "cell_type": "code",
   "execution_count": 21,
   "id": "2c798ff0",
   "metadata": {},
   "outputs": [],
   "source": [
    "def get_metrics_plot_confusion_matrix(clf, y_test, y_pred):\n",
    "  print(classification_report(y_test, y_pred))\n",
    "  cm = confusion_matrix(y_test, y_pred, labels=clf.classes_)  # Матрица ошибок\n",
    "  disp = ConfusionMatrixDisplay(confusion_matrix=cm, display_labels=clf.classes_)     # Отображение матрицы ошибок\n",
    "  disp.plot()\n",
    "  plt.show()"
   ]
  },
  {
   "cell_type": "code",
   "execution_count": 22,
   "id": "94e626b9",
   "metadata": {},
   "outputs": [
    {
     "name": "stdout",
     "output_type": "stream",
     "text": [
      "              precision    recall  f1-score   support\n",
      "\n",
      "           0       0.59      0.11      0.19        87\n",
      "           1       0.39      0.88      0.54        56\n",
      "\n",
      "    accuracy                           0.41       143\n",
      "   macro avg       0.49      0.49      0.37       143\n",
      "weighted avg       0.51      0.41      0.33       143\n",
      "\n"
     ]
    },
    {
     "data": {
      "image/png": "[encoded data removed]",
      "text/plain": [
       "<Figure size 640x480 with 2 Axes>"
      ]
     },
     "metadata": {},
     "output_type": "display_data"
    }
   ],
   "source": [
    "# Оценка на тестовой выборке\n",
    "get_metrics_plot_confusion_matrix(model, y_test, y_pred)"
   ]
  }
 ],
 "metadata": {
  "kernelspec": {
   "display_name": "Python 3",
   "language": "python",
   "name": "python3"
  },
  "language_info": {
   "codemirror_mode": {
    "name": "ipython",
    "version": 3
   },
   "file_extension": ".py",
   "mimetype": "text/x-python",
   "name": "python",
   "nbconvert_exporter": "python",
   "pygments_lexer": "ipython3",
   "version": "3.11.4"
  }
 },
 "nbformat": 4,
 "nbformat_minor": 5
}
