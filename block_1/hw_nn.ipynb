{
 "cells": [
  {
   "cell_type": "markdown",
   "id": "c3608e28",
   "metadata": {
    "id": "c3608e28"
   },
   "source": [
    "# Домашнее задание №6. Нейронные сети\n",
    "Суть этого задания в том, чтобы поиграться с параметрами сети, наблюдая за тем, как меняются результаты в зависимости от ваших действий."
   ]
  },
  {
   "cell_type": "markdown",
   "id": "4ffd5ba4",
   "metadata": {
    "id": "4ffd5ba4"
   },
   "source": [
    "## Задание 1\n",
    "Скопируйте результаты первых трех заданий из Домашнего задания №5. У вас должен быть скачан и обработан датасет с данными о пассажирах Титаника. Получившийся DataFrame должен быть разделен на обучающую (80%) и тестовую выборку (20%)."
   ]
  },
  {
   "cell_type": "code",
   "execution_count": 1,
   "id": "df6c8eda",
   "metadata": {
    "colab": {
     "base_uri": "https://localhost:8080/"
    },
    "id": "df6c8eda",
    "outputId": "a0047b75-b7f7-4a4e-f9f1-28a0c6206e32"
   },
   "outputs": [],
   "source": [
    "# Напишите свой код в данной ячейке\n",
    "import pandas as pd\n",
    "from sklearn.model_selection import train_test_split\n",
    "\n",
    "train_data = pd.read_csv(\"train.csv\")\n",
    "\n",
    "train_data['Sex'] = train_data['Sex'].map({'male': 0, 'female': 1})\n",
    "train_data = train_data[['PassengerId', 'Pclass', 'Sex', 'Age', 'SibSp', 'Parch', 'Fare', 'Survived']].dropna()\n",
    "\n",
    "X = train_data.drop('Survived', axis=1)\n",
    "y = train_data['Survived']\n",
    "X_train, X_test, y_train, y_test = train_test_split(X, y, test_size=0.2, random_state=42)"
   ]
  },
  {
   "cell_type": "markdown",
   "id": "18e39a26",
   "metadata": {
    "id": "18e39a26"
   },
   "source": [
    "# Код, рассмотренный на семинаре"
   ]
  },
  {
   "cell_type": "code",
   "execution_count": 2,
   "id": "aedc3c62",
   "metadata": {
    "id": "aedc3c62"
   },
   "outputs": [],
   "source": [
    "import numpy as np"
   ]
  },
  {
   "cell_type": "markdown",
   "id": "26fe3394",
   "metadata": {
    "id": "26fe3394"
   },
   "source": [
    "#### Инициализация"
   ]
  },
  {
   "cell_type": "code",
   "execution_count": 3,
   "id": "39609492",
   "metadata": {
    "id": "39609492"
   },
   "outputs": [],
   "source": [
    "def init_layers(nn_architecture, seed = 99):\n",
    "    np.random.seed(seed)\n",
    "    number_of_layers = len(nn_architecture)\n",
    "    params_values = {}\n",
    "\n",
    "    for idx, layer in enumerate(nn_architecture):\n",
    "        layer_idx = idx + 1\n",
    "\n",
    "        layer_input_size = layer[\"input_dim\"]\n",
    "        layer_output_size = layer[\"output_dim\"]\n",
    "\n",
    "        params_values['W' + str(layer_idx)] = np.random.randn(\n",
    "            layer_output_size, layer_input_size) * 0.1\n",
    "        params_values['b' + str(layer_idx)] = np.random.randn(\n",
    "            layer_output_size, 1) * 0.1\n",
    "\n",
    "    return params_values"
   ]
  },
  {
   "cell_type": "markdown",
   "id": "29621dde",
   "metadata": {
    "id": "29621dde"
   },
   "source": [
    "#### Функции активации"
   ]
  },
  {
   "cell_type": "code",
   "execution_count": 4,
   "id": "7b73553d",
   "metadata": {
    "id": "7b73553d"
   },
   "outputs": [],
   "source": [
    "def sigmoid(Z):\n",
    "    return 1/(1+np.exp(-Z))\n",
    "\n",
    "def relu(Z):\n",
    "    return np.maximum(0,Z)\n",
    "\n",
    "def sigmoid_backward(dA, Z):\n",
    "    sig = sigmoid(Z)\n",
    "    return dA * sig * (1 - sig)\n",
    "\n",
    "def relu_backward(dA, Z):\n",
    "    dZ = np.array(dA, copy = True)\n",
    "    dZ[Z <= 0] = 0\n",
    "    return dZ"
   ]
  },
  {
   "cell_type": "markdown",
   "id": "b1099ffa",
   "metadata": {
    "id": "b1099ffa"
   },
   "source": [
    "#### Прямой проход"
   ]
  },
  {
   "cell_type": "code",
   "execution_count": 5,
   "id": "bd3ad6ba",
   "metadata": {
    "id": "bd3ad6ba"
   },
   "outputs": [],
   "source": [
    "def single_layer_forward_propagation(A_prev, W_curr, b_curr, activation=\"relu\"):\n",
    "    Z_curr = np.dot(W_curr, A_prev) + b_curr\n",
    "\n",
    "    if activation == \"relu\":\n",
    "        activation_func = relu\n",
    "    elif activation == \"sigmoid\":\n",
    "        activation_func = sigmoid\n",
    "    else:\n",
    "        raise Exception('Non-supported activation function')\n",
    "\n",
    "    return activation_func(Z_curr), Z_curr\n",
    "\n",
    "def full_forward_propagation(X, params_values, nn_architecture):\n",
    "    memory = {}\n",
    "    A_curr = X\n",
    "\n",
    "    for idx, layer in enumerate(nn_architecture):\n",
    "        layer_idx = idx + 1\n",
    "        A_prev = A_curr\n",
    "\n",
    "        activ_function_curr = layer[\"activation\"]\n",
    "        W_curr = params_values[\"W\" + str(layer_idx)]\n",
    "        b_curr = params_values[\"b\" + str(layer_idx)]\n",
    "        A_curr, Z_curr = single_layer_forward_propagation(A_prev, W_curr, b_curr, activ_function_curr)\n",
    "\n",
    "        memory[\"A\" + str(idx)] = A_prev\n",
    "        memory[\"Z\" + str(layer_idx)] = Z_curr\n",
    "\n",
    "    return A_curr, memory"
   ]
  },
  {
   "cell_type": "markdown",
   "id": "0b0a1609",
   "metadata": {
    "id": "0b0a1609"
   },
   "source": [
    "#### Вычисление ошибки"
   ]
  },
  {
   "cell_type": "code",
   "execution_count": 6,
   "id": "a5e76a4a",
   "metadata": {
    "id": "a5e76a4a"
   },
   "outputs": [],
   "source": [
    "def get_cost_value(Y_hat, Y):\n",
    "    m = Y_hat.shape[1]\n",
    "    cost = -1 / m * (np.dot(Y, np.log(Y_hat).T) + np.dot(1 - Y, np.log(1 - Y_hat).T))\n",
    "    return np.squeeze(cost)"
   ]
  },
  {
   "cell_type": "markdown",
   "id": "6b98dc69",
   "metadata": {
    "id": "6b98dc69"
   },
   "source": [
    "#### Обратный проход"
   ]
  },
  {
   "cell_type": "code",
   "execution_count": 7,
   "id": "bd332916",
   "metadata": {
    "id": "bd332916"
   },
   "outputs": [],
   "source": [
    "def single_layer_backward_propagation(dA_curr, W_curr, b_curr, Z_curr, A_prev, activation=\"relu\"):\n",
    "    m = A_prev.shape[1]\n",
    "\n",
    "    if activation == \"relu\":\n",
    "        backward_activation_func = relu_backward\n",
    "    elif activation == \"sigmoid\":\n",
    "        backward_activation_func = sigmoid_backward\n",
    "    else:\n",
    "        raise Exception('Non-supported activation function')\n",
    "\n",
    "    dZ_curr = backward_activation_func(dA_curr, Z_curr)\n",
    "\n",
    "    dW_curr = np.dot(dZ_curr, A_prev.T) / m\n",
    "    db_curr = np.sum(dZ_curr, axis=1, keepdims=True) / m\n",
    "    dA_prev = np.dot(W_curr.T, dZ_curr)\n",
    "\n",
    "    return dA_prev, dW_curr, db_curr\n",
    "\n",
    "def full_backward_propagation(Y_hat, Y, memory, params_values, nn_architecture):\n",
    "    grads_values = {}\n",
    "\n",
    "    m = Y.shape[1]\n",
    "    Y = Y.reshape(Y_hat.shape)\n",
    "\n",
    "    dA_prev = - (np.divide(Y, Y_hat) - np.divide(1 - Y, 1 - Y_hat));\n",
    "\n",
    "    for layer_idx_prev, layer in reversed(list(enumerate(nn_architecture))):\n",
    "        layer_idx_curr = layer_idx_prev + 1\n",
    "        activ_function_curr = layer[\"activation\"]\n",
    "\n",
    "        dA_curr = dA_prev\n",
    "\n",
    "        A_prev = memory[\"A\" + str(layer_idx_prev)]\n",
    "        Z_curr = memory[\"Z\" + str(layer_idx_curr)]\n",
    "\n",
    "        W_curr = params_values[\"W\" + str(layer_idx_curr)]\n",
    "        b_curr = params_values[\"b\" + str(layer_idx_curr)]\n",
    "\n",
    "        dA_prev, dW_curr, db_curr = single_layer_backward_propagation(\n",
    "            dA_curr, W_curr, b_curr, Z_curr, A_prev, activ_function_curr)\n",
    "\n",
    "        grads_values[\"dW\" + str(layer_idx_curr)] = dW_curr\n",
    "        grads_values[\"db\" + str(layer_idx_curr)] = db_curr\n",
    "\n",
    "    return grads_values"
   ]
  },
  {
   "cell_type": "markdown",
   "id": "6b3c1415",
   "metadata": {
    "id": "6b3c1415"
   },
   "source": [
    "#### Обновление весов"
   ]
  },
  {
   "cell_type": "code",
   "execution_count": 8,
   "id": "7921def6",
   "metadata": {
    "id": "7921def6"
   },
   "outputs": [],
   "source": [
    "def update(params_values, grads_values, nn_architecture, learning_rate):\n",
    "\n",
    "    for layer_idx, layer in enumerate(nn_architecture, 1):\n",
    "        params_values[\"W\" + str(layer_idx)] -= learning_rate * grads_values[\"dW\" + str(layer_idx)]\n",
    "        params_values[\"b\" + str(layer_idx)] -= learning_rate * grads_values[\"db\" + str(layer_idx)]\n",
    "\n",
    "    return params_values"
   ]
  },
  {
   "cell_type": "markdown",
   "id": "44fc946c",
   "metadata": {
    "id": "44fc946c"
   },
   "source": [
    "#### Оценка результата"
   ]
  },
  {
   "cell_type": "code",
   "execution_count": 9,
   "id": "38bd76ab",
   "metadata": {
    "id": "38bd76ab"
   },
   "outputs": [],
   "source": [
    "def convert_prob_into_class(probs):\n",
    "    probs_ = np.copy(probs)\n",
    "    probs_[probs_ > 0.5] = 1\n",
    "    probs_[probs_ <= 0.5] = 0\n",
    "    return probs_\n",
    "\n",
    "def get_accuracy_value(Y_hat, Y):\n",
    "    Y_hat_ = convert_prob_into_class(Y_hat)\n",
    "    return (Y_hat_ == Y).all(axis=0).mean()"
   ]
  },
  {
   "cell_type": "markdown",
   "id": "96dc0dcc",
   "metadata": {
    "id": "96dc0dcc"
   },
   "source": [
    "#### Функция для обучения"
   ]
  },
  {
   "cell_type": "code",
   "execution_count": 10,
   "id": "8ed8d50a",
   "metadata": {
    "id": "8ed8d50a"
   },
   "outputs": [],
   "source": [
    "def train(X, Y, nn_architecture, epochs, learning_rate, verbose=False, callback=None):\n",
    "    params_values = init_layers(nn_architecture, 2)\n",
    "    cost_history = []\n",
    "    accuracy_history = []\n",
    "\n",
    "    for i in range(epochs):\n",
    "        Y_hat, cashe = full_forward_propagation(X, params_values, nn_architecture)\n",
    "\n",
    "        cost = get_cost_value(Y_hat, Y)\n",
    "        cost_history.append(cost)\n",
    "        accuracy = get_accuracy_value(Y_hat, Y)\n",
    "        accuracy_history.append(accuracy)\n",
    "\n",
    "        grads_values = full_backward_propagation(Y_hat, Y, cashe, params_values, nn_architecture)\n",
    "        params_values = update(params_values, grads_values, nn_architecture, learning_rate)\n",
    "\n",
    "        if(i % 50 == 0):\n",
    "            if(verbose):\n",
    "                print(\"Iteration: {:05} - cost: {:.5f} - accuracy: {:.5f}\".format(i, cost, accuracy))\n",
    "            if(callback is not None):\n",
    "                callback(i, params_values)\n",
    "\n",
    "    return params_values"
   ]
  },
  {
   "cell_type": "markdown",
   "id": "477442d2",
   "metadata": {
    "id": "477442d2"
   },
   "source": [
    "#### Ячейка с параметрами слоев"
   ]
  },
  {
   "cell_type": "code",
   "execution_count": 11,
   "id": "9421c893",
   "metadata": {
    "id": "9421c893"
   },
   "outputs": [],
   "source": [
    "#NN_ARCHITECTURE = [\n",
    "#    {\"input_dim\": 2, \"output_dim\": 25, \"activation\": \"relu\"},\n",
    "#    {\"input_dim\": 25, \"output_dim\": 50, \"activation\": \"relu\"},\n",
    "#    {\"input_dim\": 50, \"output_dim\": 50, \"activation\": \"relu\"},\n",
    "#    {\"input_dim\": 50, \"output_dim\": 25, \"activation\": \"relu\"},\n",
    "#    {\"input_dim\": 25, \"output_dim\": 1, \"activation\": \"sigmoid\"},\n",
    "#]"
   ]
  },
  {
   "cell_type": "markdown",
   "id": "0733f647",
   "metadata": {
    "id": "0733f647"
   },
   "source": [
    "#### Ячейка с обучением"
   ]
  },
  {
   "cell_type": "code",
   "execution_count": 12,
   "id": "077fb077",
   "metadata": {
    "id": "077fb077"
   },
   "outputs": [],
   "source": [
    "# Обучение\n",
    "#params_values = train(np.transpose(X_train), np.transpose(y_train.reshape((y_train.shape[0], 1))), NN_ARCHITECTURE, 100, 0.01)\n",
    "# Предсказание\n",
    "#Y_test_hat, _ = full_forward_propagation(np.transpose(X_test), params_values, NN_ARCHITECTURE)\n",
    "# Оценка на тестовой выборке\n",
    "#acc_test = get_accuracy_value(Y_test_hat, np.transpose(y_test.reshape((y_test.shape[0], 1))))\n",
    "#print(\"Test set accuracy: {:.2f}\".format(acc_test))"
   ]
  },
  {
   "cell_type": "markdown",
   "id": "d39f761e",
   "metadata": {
    "id": "d39f761e"
   },
   "source": [
    "## Задание 2. Запуск на данных\n",
    "Модифицируйте код в последних двух ячейках так, чтобы его можно было запускать на подготовленных данных. Запишите исправленные ячейки ниже и запустите."
   ]
  },
  {
   "cell_type": "code",
   "execution_count": 13,
   "id": "c0b4dc19",
   "metadata": {
    "id": "c0b4dc19"
   },
   "outputs": [],
   "source": [
    "# Исправленная ячейка с параметрами слоев\n",
    "NN_ARCHITECTURE = [\n",
    "    {\"input_dim\": 7, \"output_dim\": 25, \"activation\": \"relu\"},\n",
    "    {\"input_dim\": 25, \"output_dim\": 50, \"activation\": \"relu\"},\n",
    "    {\"input_dim\": 50, \"output_dim\": 50, \"activation\": \"relu\"},\n",
    "    {\"input_dim\": 50, \"output_dim\": 25, \"activation\": \"relu\"},\n",
    "    {\"input_dim\": 25, \"output_dim\": 1, \"activation\": \"sigmoid\"},\n",
    "]"
   ]
  },
  {
   "cell_type": "code",
   "execution_count": 14,
   "id": "2796ecf2",
   "metadata": {
    "colab": {
     "base_uri": "https://localhost:8080/"
    },
    "id": "2796ecf2",
    "outputId": "b5bc4c92-df5c-4d35-9f0f-de42149feabf"
   },
   "outputs": [
    {
     "name": "stdout",
     "output_type": "stream",
     "text": [
      "Test set accuracy: 0.63\n"
     ]
    }
   ],
   "source": [
    "# Исправленная ячейка с обучением\n",
    "params_values = train(np.transpose(X_train), np.transpose(y_train.values.reshape((y_train.shape[0], 1))), NN_ARCHITECTURE, 100, 0.01)   # Обучение\n",
    "Y_test_hat, _ = full_forward_propagation(np.transpose(X_test), params_values, NN_ARCHITECTURE)                                          # Предсказание\n",
    "acc_test = get_accuracy_value(Y_test_hat, np.transpose(y_test.values.reshape((y_test.shape[0], 1))))                                    # Оценка на тестовой выборке\n",
    "print(\"Test set accuracy: {:.2f}\".format(acc_test))"
   ]
  },
  {
   "cell_type": "markdown",
   "id": "39753fcd",
   "metadata": {
    "id": "39753fcd"
   },
   "source": [
    "## Задание 3. Нормализация данных\n",
    "На результат обучения влияет то, что данные в разных столбцах могут принимать совсем разные по величине значения, все измеряются в разных единицах. Нормализуйте данные, например, при помощи <code>sklearn.preprocessing.StandardScaler</code>. А затем снова скопируйте сюда ячейку с обучением и запустите, чтобы оценить, как меняется результат."
   ]
  },
  {
   "cell_type": "code",
   "execution_count": 15,
   "id": "5590334a",
   "metadata": {
    "colab": {
     "base_uri": "https://localhost:8080/"
    },
    "id": "5590334a",
    "outputId": "29a91cb0-995c-4e28-da53-ff81362ee1cf"
   },
   "outputs": [
    {
     "name": "stdout",
     "output_type": "stream",
     "text": [
      "Test set accuracy: 0.61\n"
     ]
    }
   ],
   "source": [
    "# Напишите свой код в данной ячейке\n",
    "from sklearn import preprocessing\n",
    "scaler = preprocessing.StandardScaler().fit(X)\n",
    "X_train = scaler.transform(X_train)\n",
    "X_test = scaler.transform(X_test)\n",
    "\n",
    "\n",
    "# Исправленная ячейка с обучением\n",
    "params_values = train(np.transpose(X_train), np.transpose(y_train.values.reshape((y_train.shape[0], 1))), NN_ARCHITECTURE, 100, 0.01)   # Обучение\n",
    "Y_test_hat, _ = full_forward_propagation(np.transpose(X_test), params_values, NN_ARCHITECTURE)                                          # Предсказание\n",
    "acc_test = get_accuracy_value(Y_test_hat, np.transpose(y_test.values.reshape((y_test.shape[0], 1))))                                    # Оценка на тестовой выборке\n",
    "print(\"Test set accuracy: {:.2f}\".format(acc_test))"
   ]
  },
  {
   "cell_type": "markdown",
   "id": "a662ba6f",
   "metadata": {
    "id": "a662ba6f"
   },
   "source": [
    "## Задание 4. Число эпох\n",
    "Попробуйте обучать, используя разные значения числа эпох."
   ]
  },
  {
   "cell_type": "markdown",
   "id": "69b8f57d",
   "metadata": {},
   "source": [
    "**10 эпох**"
   ]
  },
  {
   "cell_type": "code",
   "execution_count": 16,
   "id": "f28f59c5",
   "metadata": {
    "colab": {
     "base_uri": "https://localhost:8080/"
    },
    "id": "f28f59c5",
    "outputId": "ee704cfb-06b2-4f1f-cfdb-60b243830cfb"
   },
   "outputs": [
    {
     "name": "stdout",
     "output_type": "stream",
     "text": [
      "Test set accuracy: 0.59\n"
     ]
    }
   ],
   "source": [
    "# Ячейка с обучением, в которой число эпох равно 10\n",
    "X = train_data.drop('Survived', axis=1)\n",
    "y = train_data['Survived']\n",
    "X_train, X_test, y_train, y_test = train_test_split(X, y, test_size=0.2, random_state=42)\n",
    "\n",
    "# Исправленная ячейка с обучением (30 эпох)\n",
    "params_values = train(np.transpose(X_train), np.transpose(y_train.values.reshape((y_train.shape[0], 1))), NN_ARCHITECTURE, 10, 0.01)    # Обучение\n",
    "Y_test_hat, _ = full_forward_propagation(np.transpose(X_test), params_values, NN_ARCHITECTURE)                                          # Предсказание\n",
    "acc_test = get_accuracy_value(Y_test_hat, np.transpose(y_test.values.reshape((y_test.shape[0], 1))))                                    # Оценка на тестовой выборке\n",
    "print(\"Test set accuracy: {:.2f}\".format(acc_test))\n"
   ]
  },
  {
   "cell_type": "markdown",
   "id": "84147db3",
   "metadata": {},
   "source": [
    "**1000 эпох**"
   ]
  },
  {
   "cell_type": "code",
   "execution_count": 17,
   "id": "ab470d22",
   "metadata": {
    "colab": {
     "base_uri": "https://localhost:8080/"
    },
    "id": "ab470d22",
    "outputId": "ebe7f5fb-72f7-42c9-f28b-669fdc6cc77a"
   },
   "outputs": [
    {
     "name": "stdout",
     "output_type": "stream",
     "text": [
      "Test set accuracy: 0.66\n"
     ]
    }
   ],
   "source": [
    "# Исправленная ячейка с обучением (1000 эпох)\n",
    "params_values = train(np.transpose(X_train), np.transpose(y_train.values.reshape((y_train.shape[0], 1))), NN_ARCHITECTURE, 1000, 0.01)   # Обучение\n",
    "Y_test_hat, _ = full_forward_propagation(np.transpose(X_test), params_values, NN_ARCHITECTURE)                                          # Предсказание\n",
    "acc_test = get_accuracy_value(Y_test_hat, np.transpose(y_test.values.reshape((y_test.shape[0], 1))))                                    # Оценка на тестовой выборке\n",
    "print(\"Test set accuracy: {:.2f}\".format(acc_test))"
   ]
  },
  {
   "cell_type": "markdown",
   "id": "879ec852",
   "metadata": {},
   "source": [
    "**10'000 эпох** "
   ]
  },
  {
   "cell_type": "code",
   "execution_count": 18,
   "id": "dda769e2",
   "metadata": {},
   "outputs": [
    {
     "name": "stdout",
     "output_type": "stream",
     "text": [
      "Test set accuracy: 0.64\n"
     ]
    }
   ],
   "source": [
    "# Исправленная ячейка с обучением (10000 эпох)\n",
    "params_values = train(np.transpose(X_train), np.transpose(y_train.values.reshape((y_train.shape[0], 1))), NN_ARCHITECTURE, 10000, 0.01)   # Обучение\n",
    "Y_test_hat, _ = full_forward_propagation(np.transpose(X_test), params_values, NN_ARCHITECTURE)                                          # Предсказание\n",
    "acc_test = get_accuracy_value(Y_test_hat, np.transpose(y_test.values.reshape((y_test.shape[0], 1))))                                    # Оценка на тестовой выборке\n",
    "print(\"Test set accuracy: {:.2f}\".format(acc_test))"
   ]
  },
  {
   "cell_type": "markdown",
   "id": "b0606fd3",
   "metadata": {
    "id": "b0606fd3"
   },
   "source": [
    "## Задание 5. Скорость обучения\n",
    "Попробуйте обучать, используя разные значения скорости обучения. Число эпох выберите на выше усмотрение, но одинаковое во всех трех ячейках."
   ]
  },
  {
   "cell_type": "markdown",
   "id": "4fd7f32b",
   "metadata": {},
   "source": [
    "**0,0001**"
   ]
  },
  {
   "cell_type": "code",
   "execution_count": 19,
   "id": "ff78246b",
   "metadata": {
    "colab": {
     "base_uri": "https://localhost:8080/"
    },
    "id": "ff78246b",
    "outputId": "f985b9f4-2f0b-43e7-9c27-e3c2a04495be"
   },
   "outputs": [
    {
     "name": "stdout",
     "output_type": "stream",
     "text": [
      "Test set accuracy: 0.61\n"
     ]
    }
   ],
   "source": [
    "# Исправленная ячейка с обучением (10000 эпох)\n",
    "params_values = train(np.transpose(X_train), np.transpose(y_train.values.reshape((y_train.shape[0], 1))), NN_ARCHITECTURE, 100, 0.0001)   # Обучение\n",
    "Y_test_hat, _ = full_forward_propagation(np.transpose(X_test), params_values, NN_ARCHITECTURE)                                          # Предсказание\n",
    "acc_test = get_accuracy_value(Y_test_hat, np.transpose(y_test.values.reshape((y_test.shape[0], 1))))                                    # Оценка на тестовой выборке\n",
    "print(\"Test set accuracy: {:.2f}\".format(acc_test))"
   ]
  },
  {
   "cell_type": "markdown",
   "id": "b7b2b27f",
   "metadata": {},
   "source": [
    "**0,001**"
   ]
  },
  {
   "cell_type": "code",
   "execution_count": 20,
   "id": "cde1f312",
   "metadata": {
    "colab": {
     "base_uri": "https://localhost:8080/"
    },
    "id": "cde1f312",
    "outputId": "e6a40834-d334-4dda-e376-c31d9cb7debd"
   },
   "outputs": [
    {
     "name": "stdout",
     "output_type": "stream",
     "text": [
      "Test set accuracy: 0.60\n"
     ]
    }
   ],
   "source": [
    "# Исправленная ячейка с обучением (10000 эпох)\n",
    "params_values = train(np.transpose(X_train), np.transpose(y_train.values.reshape((y_train.shape[0], 1))), NN_ARCHITECTURE, 100, 0.001)   # Обучение\n",
    "Y_test_hat, _ = full_forward_propagation(np.transpose(X_test), params_values, NN_ARCHITECTURE)                                          # Предсказание\n",
    "acc_test = get_accuracy_value(Y_test_hat, np.transpose(y_test.values.reshape((y_test.shape[0], 1))))                                    # Оценка на тестовой выборке\n",
    "print(\"Test set accuracy: {:.2f}\".format(acc_test))"
   ]
  },
  {
   "cell_type": "markdown",
   "id": "50bb4493",
   "metadata": {},
   "source": [
    "**0,01**"
   ]
  },
  {
   "cell_type": "code",
   "execution_count": 21,
   "id": "f53cfb78",
   "metadata": {
    "colab": {
     "base_uri": "https://localhost:8080/"
    },
    "id": "f53cfb78",
    "outputId": "565ffe97-3872-4478-9c6e-05b277f01701"
   },
   "outputs": [
    {
     "name": "stdout",
     "output_type": "stream",
     "text": [
      "Test set accuracy: 0.63\n"
     ]
    }
   ],
   "source": [
    "# Исправленная ячейка с обучением (10000 эпох)\n",
    "params_values = train(np.transpose(X_train), np.transpose(y_train.values.reshape((y_train.shape[0], 1))), NN_ARCHITECTURE, 100, 0.01)   # Обучение\n",
    "Y_test_hat, _ = full_forward_propagation(np.transpose(X_test), params_values, NN_ARCHITECTURE)                                          # Предсказание\n",
    "acc_test = get_accuracy_value(Y_test_hat, np.transpose(y_test.values.reshape((y_test.shape[0], 1))))                                    # Оценка на тестовой выборке\n",
    "print(\"Test set accuracy: {:.2f}\".format(acc_test))"
   ]
  },
  {
   "cell_type": "markdown",
   "id": "e7f924fb",
   "metadata": {
    "id": "e7f924fb"
   },
   "source": [
    "## Задание 6. Изменение слоев\n",
    "Начиная с этого задания вы можете выбирать число эпох и скорость обучения самостоятельно.\n",
    "\n",
    "А еще теперь кроме ячейки с обучением будет меняться еще и ячейка с параметрами слоев. То есть каждая ячейка с ответом будет выглядеть как-то так:"
   ]
  },
  {
   "cell_type": "code",
   "execution_count": 22,
   "id": "f12b0067",
   "metadata": {
    "id": "f12b0067"
   },
   "outputs": [],
   "source": [
    "# Какой-то комментарий про эту ячейку\n",
    "#NN_ARCHITECTURE = [\n",
    "#    {\"input_dim\": 2, \"output_dim\": 25, \"activation\": \"relu\"},\n",
    "#    {\"input_dim\": 25, \"output_dim\": 50, \"activation\": \"relu\"},\n",
    "#    {\"input_dim\": 50, \"output_dim\": 50, \"activation\": \"relu\"},\n",
    "#    {\"input_dim\": 50, \"output_dim\": 25, \"activation\": \"relu\"},\n",
    "#    {\"input_dim\": 25, \"output_dim\": 1, \"activation\": \"sigmoid\"},\n",
    "#]\n",
    "# Обучение\n",
    "#params_values = train(np.transpose(X_train), np.transpose(y_train.reshape((y_train.shape[0], 1))), NN_ARCHITECTURE, 10000, 0.01)\n",
    "# Предсказание\n",
    "#Y_test_hat, _ = full_forward_propagation(np.transpose(X_test), params_values, NN_ARCHITECTURE)\n",
    "# Оценка на тестовой выборке\n",
    "#acc_test = get_accuracy_value(Y_test_hat, np.transpose(y_test.reshape((y_test.shape[0], 1))))\n",
    "#print(\"Test set accuracy: {:.2f}\".format(acc_test))"
   ]
  },
  {
   "cell_type": "markdown",
   "id": "68210e41",
   "metadata": {
    "id": "68210e41"
   },
   "source": [
    "После каждого изменения параметров, не забывайте вставлять код с обучением и выводом accuracy."
   ]
  },
  {
   "cell_type": "code",
   "execution_count": 23,
   "id": "f3774de6",
   "metadata": {
    "colab": {
     "base_uri": "https://localhost:8080/"
    },
    "id": "f3774de6",
    "outputId": "7b506cd3-4253-4f38-d725-b6e32e533e56"
   },
   "outputs": [
    {
     "name": "stdout",
     "output_type": "stream",
     "text": [
      "Test set accuracy: 0.61\n"
     ]
    }
   ],
   "source": [
    "# Ячейка с обучением и параметрами слоев, в которой все функции активации это sigmoid\n",
    "NN_ARCHITECTURE = [\n",
    "    {\"input_dim\": 7, \"output_dim\": 25, \"activation\": \"sigmoid\"},\n",
    "    {\"input_dim\": 25, \"output_dim\": 50, \"activation\": \"sigmoid\"},\n",
    "    {\"input_dim\": 50, \"output_dim\": 50, \"activation\": \"sigmoid\"},\n",
    "    {\"input_dim\": 50, \"output_dim\": 25, \"activation\": \"sigmoid\"},\n",
    "    {\"input_dim\": 25, \"output_dim\": 1, \"activation\": \"sigmoid\"},\n",
    "]\n",
    "\n",
    "# Исправленная ячейка с обучением (10000 эпох)\n",
    "params_values = train(np.transpose(X_train), np.transpose(y_train.values.reshape((y_train.shape[0], 1))), NN_ARCHITECTURE, 100, 0.01)   # Обучение\n",
    "Y_test_hat, _ = full_forward_propagation(np.transpose(X_test), params_values, NN_ARCHITECTURE)                                          # Предсказание\n",
    "acc_test = get_accuracy_value(Y_test_hat, np.transpose(y_test.values.reshape((y_test.shape[0], 1))))                                    # Оценка на тестовой выборке\n",
    "print(\"Test set accuracy: {:.2f}\".format(acc_test))"
   ]
  },
  {
   "cell_type": "code",
   "execution_count": 24,
   "id": "fff212f7",
   "metadata": {
    "colab": {
     "base_uri": "https://localhost:8080/"
    },
    "id": "fff212f7",
    "outputId": "722df41e-5f96-4019-e93b-6a5e73ed1560"
   },
   "outputs": [
    {
     "name": "stdout",
     "output_type": "stream",
     "text": [
      "Test set accuracy: 0.61\n"
     ]
    }
   ],
   "source": [
    "# Ячейка с обучением и параметрами слоев, в которой есть только последний выходной слой с sigmoid\n",
    "NN_ARCHITECTURE = [\n",
    "    {\"input_dim\": 7, \"output_dim\": 25, \"activation\": \"sigmoid\"},\n",
    "    {\"input_dim\": 25, \"output_dim\": 1, \"activation\": \"sigmoid\"},\n",
    "]\n",
    "\n",
    "# Исправленная ячейка с обучением (10000 эпох)\n",
    "params_values = train(np.transpose(X_train), np.transpose(y_train.values.reshape((y_train.shape[0], 1))), NN_ARCHITECTURE, 100, 0.01)   # Обучение\n",
    "Y_test_hat, _ = full_forward_propagation(np.transpose(X_test), params_values, NN_ARCHITECTURE)                                          # Предсказание\n",
    "acc_test = get_accuracy_value(Y_test_hat, np.transpose(y_test.values.reshape((y_test.shape[0], 1))))                                    # Оценка на тестовой выборке\n",
    "print(\"Test set accuracy: {:.2f}\".format(acc_test))"
   ]
  },
  {
   "cell_type": "code",
   "execution_count": 29,
   "id": "609ff2c6",
   "metadata": {
    "colab": {
     "base_uri": "https://localhost:8080/"
    },
    "id": "609ff2c6",
    "outputId": "0eb26fbc-2032-473d-c50b-b27f8682b3a8"
   },
   "outputs": [
    {
     "name": "stdout",
     "output_type": "stream",
     "text": [
      "Test set accuracy: 0.61\n"
     ]
    }
   ],
   "source": [
    "# Ячейка с обучением и параметрами слоев, в которой есть два слоя с relu и выходной слой с sigmoid\n",
    "NN_ARCHITECTURE = [\n",
    "    {\"input_dim\": 7, \"output_dim\": 25, \"activation\": \"relu\"},\n",
    "    {\"input_dim\": 25, \"output_dim\": 50, \"activation\": \"sigmoid\"},\n",
    "    {\"input_dim\": 50, \"output_dim\": 50, \"activation\": \"relu\"},\n",
    "    {\"input_dim\": 50, \"output_dim\": 25, \"activation\": \"sigmoid\"},\n",
    "    {\"input_dim\": 25, \"output_dim\": 1, \"activation\": \"sigmoid\"},\n",
    "]\n",
    "\n",
    "\n",
    "# Исправленная ячейка с обучением (10000 эпох)\n",
    "params_values = train(np.transpose(X_train), np.transpose(y_train.values.reshape((y_train.shape[0], 1))), NN_ARCHITECTURE, 100, 0.01)   # Обучение\n",
    "Y_test_hat, _ = full_forward_propagation(np.transpose(X_test), params_values, NN_ARCHITECTURE)                                          # Предсказание\n",
    "acc_test = get_accuracy_value(Y_test_hat, np.transpose(y_test.values.reshape((y_test.shape[0], 1))))                                    # Оценка на тестовой выборке\n",
    "print(\"Test set accuracy: {:.2f}\".format(acc_test))"
   ]
  },
  {
   "cell_type": "code",
   "execution_count": 26,
   "id": "e05dadf5",
   "metadata": {
    "colab": {
     "base_uri": "https://localhost:8080/"
    },
    "id": "e05dadf5",
    "outputId": "78cff2bf-110e-4387-da8b-fe0b42fcb0ef"
   },
   "outputs": [
    {
     "name": "stdout",
     "output_type": "stream",
     "text": [
      "Test set accuracy: 0.61\n"
     ]
    }
   ],
   "source": [
    "# Ячейка с обучением и параметрами слоев, в которой есть два слоя с relu и выходной слой с sigmoid\n",
    "# а еще число нейронов на каждом слое равно 8 (кроме входного и выходного)\n",
    "NN_ARCHITECTURE = [\n",
    "    {\"input_dim\": 7, \"output_dim\": 8, \"activation\": \"sigmoid\"},\n",
    "    {\"input_dim\": 8, \"output_dim\": 8, \"activation\": \"relu\"},\n",
    "    {\"input_dim\": 8, \"output_dim\": 8, \"activation\": \"relu\"},\n",
    "    {\"input_dim\": 8, \"output_dim\": 8, \"activation\": \"sigmoid\"},\n",
    "    {\"input_dim\": 8, \"output_dim\": 1, \"activation\": \"sigmoid\"},\n",
    "]\n",
    "\n",
    "\n",
    "# Исправленная ячейка с обучением (10000 эпох)\n",
    "params_values = train(np.transpose(X_train), np.transpose(y_train.values.reshape((y_train.shape[0], 1))), NN_ARCHITECTURE, 100, 0.01)   # Обучение\n",
    "Y_test_hat, _ = full_forward_propagation(np.transpose(X_test), params_values, NN_ARCHITECTURE)                                          # Предсказание\n",
    "acc_test = get_accuracy_value(Y_test_hat, np.transpose(y_test.values.reshape((y_test.shape[0], 1))))                                    # Оценка на тестовой выборке\n",
    "print(\"Test set accuracy: {:.2f}\".format(acc_test))"
   ]
  },
  {
   "cell_type": "code",
   "execution_count": 27,
   "id": "9c6d6a18",
   "metadata": {
    "colab": {
     "base_uri": "https://localhost:8080/"
    },
    "id": "9c6d6a18",
    "outputId": "89fbea0d-1890-4556-9b60-9507b11530f7"
   },
   "outputs": [
    {
     "name": "stdout",
     "output_type": "stream",
     "text": [
      "Test set accuracy: 0.61\n"
     ]
    }
   ],
   "source": [
    "# Ячейка с обучением и параметрами слоев, в которой есть два слоя с relu и выходной слой с sigmoid\n",
    "# а еще число нейронов на каждом слое равно 100 (кроме входного и выходного)\n",
    "NN_ARCHITECTURE = [\n",
    "    {\"input_dim\": 7, \"output_dim\": 100, \"activation\": \"sigmoid\"},\n",
    "    {\"input_dim\": 100, \"output_dim\": 100, \"activation\": \"sigmoid\"},\n",
    "    {\"input_dim\": 100, \"output_dim\": 100, \"activation\": \"relu\"},\n",
    "    {\"input_dim\": 100, \"output_dim\": 100, \"activation\": \"relu\"},\n",
    "    {\"input_dim\": 100, \"output_dim\": 1, \"activation\": \"sigmoid\"},\n",
    "]\n",
    "\n",
    "# Исправленная ячейка с обучением (10000 эпох)\n",
    "params_values = train(np.transpose(X_train), np.transpose(y_train.values.reshape((y_train.shape[0], 1))), NN_ARCHITECTURE, 100, 0.01)   # Обучение\n",
    "Y_test_hat, _ = full_forward_propagation(np.transpose(X_test), params_values, NN_ARCHITECTURE)                                          # Предсказание\n",
    "acc_test = get_accuracy_value(Y_test_hat, np.transpose(y_test.values.reshape((y_test.shape[0], 1))))                                    # Оценка на тестовой выборке\n",
    "print(\"Test set accuracy: {:.2f}\".format(acc_test))"
   ]
  },
  {
   "cell_type": "markdown",
   "id": "0650b5ef",
   "metadata": {
    "id": "0650b5ef"
   },
   "source": [
    "## Задание 7. Превзойти себя\n",
    "Наконец, в этом задании вам предоставляется полная свобода действий в рамках этой модели. Используйте все полученные знания. Пробуйте другие модификации. Добейтесь результата как можно лучше."
   ]
  },
  {
   "cell_type": "code",
   "execution_count": 28,
   "id": "eb9e2b4d",
   "metadata": {
    "colab": {
     "base_uri": "https://localhost:8080/"
    },
    "id": "eb9e2b4d",
    "outputId": "905163a9-6fd4-4a35-9ae1-361444410aa3"
   },
   "outputs": [
    {
     "name": "stdout",
     "output_type": "stream",
     "text": [
      "Test set accuracy: 0.82\n"
     ]
    }
   ],
   "source": [
    "# Ячейка с обучением и полной свободой действий\n",
    "NN_ARCHITECTURE = [\n",
    "    {\"input_dim\": 7, \"output_dim\": 50, \"activation\": \"relu\"},\n",
    "    {\"input_dim\": 50, \"output_dim\": 50, \"activation\": \"relu\"},\n",
    "    {\"input_dim\": 50, \"output_dim\": 1, \"activation\": \"sigmoid\"},\n",
    "]\n",
    "\n",
    "X = train_data.drop('Survived', axis=1)\n",
    "y = train_data['Survived']\n",
    "X_train, X_test, y_train, y_test = train_test_split(X, y, test_size=0.2, random_state=42)\n",
    "\n",
    "scaler = preprocessing.StandardScaler().fit(X)\n",
    "X_train = scaler.transform(X_train)\n",
    "X_test = scaler.transform(X_test)\n",
    "\n",
    "params_values = train(np.transpose(X_train), np.transpose(y_train.values.reshape((y_train.shape[0], 1))), NN_ARCHITECTURE, 10000, 0.01)\n",
    "Y_test_hat, _ = full_forward_propagation(np.transpose(X_test), params_values, NN_ARCHITECTURE)\n",
    "\n",
    "# Оценка на тестовой выборке\n",
    "acc_test = get_accuracy_value(Y_test_hat, np.transpose(y_test.values.reshape((y_test.shape[0], 1))))\n",
    "print(\"Test set accuracy: {:.2f}\".format(acc_test))"
   ]
  }
 ],
 "metadata": {
  "colab": {
   "provenance": []
  },
  "kernelspec": {
   "display_name": "Python 3",
   "language": "python",
   "name": "python3"
  },
  "language_info": {
   "codemirror_mode": {
    "name": "ipython",
    "version": 3
   },
   "file_extension": ".py",
   "mimetype": "text/x-python",
   "name": "python",
   "nbconvert_exporter": "python",
   "pygments_lexer": "ipython3",
   "version": "3.11.4"
  }
 },
 "nbformat": 4,
 "nbformat_minor": 5
}
