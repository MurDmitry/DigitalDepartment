{
 "cells": [
  {
   "cell_type": "markdown",
   "metadata": {
    "id": "Knw9VPXBA4gJ"
   },
   "source": [
    "# Домашнее задание №2. Pandas"
   ]
  },
  {
   "cell_type": "markdown",
   "metadata": {
    "id": "IoDWX58hedPX"
   },
   "source": [
    "### Задание 1"
   ]
  },
  {
   "cell_type": "markdown",
   "metadata": {
    "id": "ASdWJiJ-m3sO"
   },
   "source": [
    "1. Создайте серию `pd.Series`, которая будет содрежать инфомацию о целочисленных оценках на экзамене по алгебре учеников: Александр, Борис, Владимир, Дмитрий, Григорий, Евгений, Игорь, Клим, Леонид, Максим. Созданную серию сохраните в переменную one_mark. Этой серии задайте имя \"Оценка по алгебре\". Выведите полученную серию на экран.\n",
    "2. Увеличьте оценку Максима на 1 балл и сохраните ее в серии. Выведите на экран из серию только оценку Максима.\n",
    "3. Задав маску, получить и вывести информацию о тем учениках, у которых оценка не меньше 4."
   ]
  },
  {
   "cell_type": "code",
   "execution_count": 1,
   "metadata": {},
   "outputs": [],
   "source": [
    "%matplotlib inline\n",
    "import pandas as pd\n",
    "import numpy as np\n",
    "from random import randint"
   ]
  },
  {
   "cell_type": "code",
   "execution_count": 2,
   "metadata": {
    "id": "tz-5xgIUecma"
   },
   "outputs": [
    {
     "name": "stdout",
     "output_type": "stream",
     "text": [
      "Ответ на 1 пункт:\n",
      " Александр    2\n",
      "Борис        5\n",
      "Владимир     2\n",
      "Дмитрий      4\n",
      "Григорий     3\n",
      "Евгений      5\n",
      "Игорь        3\n",
      "Клим         5\n",
      "Леонид       3\n",
      "Максим       5\n",
      "Name: Оценка по алгебре, dtype: int64\n",
      "==================================================\n",
      "Оценка Максима до:  5\n",
      "Оценка Максима после:  5\n",
      "==================================================\n",
      "Борис      5\n",
      "Дмитрий    4\n",
      "Евгений    5\n",
      "Клим       5\n",
      "Максим     5\n",
      "Name: Оценка по алгебре, dtype: int64\n"
     ]
    }
   ],
   "source": [
    "people = \"Александр,Борис,Владимир,Дмитрий,Григорий,Евгений,Игорь,Клим,Леонид,Максим\".split(\",\")\n",
    "marks = [randint(2, 5) for _ in range(len(people))]\n",
    "\n",
    "one_mark = pd.Series(marks, index=people, name=\"Оценка по алгебре\")\n",
    "print(\"Ответ на 1 пункт:\\n\", one_mark)\n",
    "\n",
    "print(\"==================================================\")\n",
    "\n",
    "print(\"Оценка Максима до: \", one_mark[\"Максим\"])\n",
    "if one_mark[\"Максим\"] < 5:\n",
    "    one_mark[\"Максим\"] += 1\n",
    "print(\"Оценка Максима после: \", one_mark[\"Максим\"])\n",
    "\n",
    "print(\"==================================================\")\n",
    "\n",
    "print(one_mark[one_mark >= 4])"
   ]
  },
  {
   "cell_type": "markdown",
   "metadata": {
    "id": "MPgVgDUTnXqw"
   },
   "source": [
    "### Задание 2"
   ]
  },
  {
   "cell_type": "markdown",
   "metadata": {
    "id": "mTythu13nXqx"
   },
   "source": [
    "Создайте `pd.DataFrame`, которая будет содержать инфомацию о целочисленных оценках на экзаменах по алгебре, геометрии и физике учеников: Александр, Борис, Владимир, Дмитрий, Григорий, Евгений, Игорь, Клим, Леонид, Максим. Оценки сгенерируйте случайным образом. Созданный `DataFrame` сохраните в переменную marks. Этому `DataFrame` задайте имя \"*Экзаменационные оценки*\" и выведите его на экран.\n"
   ]
  },
  {
   "cell_type": "code",
   "execution_count": 3,
   "metadata": {
    "id": "fRs0MMT2nXqy"
   },
   "outputs": [
    {
     "name": "stdout",
     "output_type": "stream",
     "text": [
      "Экзаменационные оценки:\n",
      "            Алгебра  Геометрия  Физика\n",
      "Александр        4          4       4\n",
      "Борис            5          2       3\n",
      "Владимир         4          4       2\n",
      "Дмитрий          2          3       2\n",
      "Григорий         3          3       3\n",
      "Евгений          5          4       5\n",
      "Игорь            4          5       4\n",
      "Клим             3          5       3\n",
      "Леонид           4          2       3\n",
      "Максим           3          2       2\n"
     ]
    }
   ],
   "source": [
    "people = \"Александр,Борис,Владимир,Дмитрий,Григорий,Евгений,Игорь,Клим,Леонид,Максим\".split(\",\")   # Строчки \n",
    "\n",
    "algebra_marks = np.array([randint(2, 5) for _ in range(len(people))])\n",
    "geometry_marks =  np.array([randint(2, 5) for _ in range(len(people))])\n",
    "physics_marks =  np.array([randint(2, 5) for _ in range(len(people))])\n",
    "\n",
    "marks = pd.DataFrame({\n",
    "    'Алгебра': algebra_marks,\n",
    "    'Геометрия': geometry_marks,\n",
    "    'Физика': physics_marks\n",
    "}, index=people)\n",
    "\n",
    "print(\"Экзаменационные оценки:\\n\", marks)"
   ]
  },
  {
   "cell_type": "markdown",
   "metadata": {
    "id": "3m6tFVafqu8e"
   },
   "source": [
    "### Задание 3"
   ]
  },
  {
   "cell_type": "markdown",
   "metadata": {
    "id": "WiRSRFSrqu8g"
   },
   "source": [
    "Полученный в предыдущем задании `marks` изменить следующим образом (все изменения должны быть сохранены в `marks`):\n",
    "  1.  Оценки всех учеников по геометрии уменьшите на 1 балл.\n",
    "  2.  Увеличьте все оценки Максима на 1 балл.\n",
    "  3.  Измените оценку по алгебре у Бориса на 5.\n",
    "  4.  Измените все оценки в столбце №2 на 4. <br>\n",
    "Выведите `marks` на экран.\n"
   ]
  },
  {
   "cell_type": "code",
   "execution_count": 4,
   "metadata": {
    "id": "zlpEdjGvqu8h"
   },
   "outputs": [
    {
     "name": "stdout",
     "output_type": "stream",
     "text": [
      "           Алгебра  Геометрия  Физика\n",
      "Александр        4          4       4\n",
      "Борис            5          4       3\n",
      "Владимир         4          4       2\n",
      "Дмитрий          2          4       2\n",
      "Григорий         3          4       3\n",
      "Евгений          5          4       5\n",
      "Игорь            4          4       4\n",
      "Клим             3          4       3\n",
      "Леонид           4          4       3\n",
      "Максим           4          4       3\n"
     ]
    }
   ],
   "source": [
    "# Проверка, чтобы оценка не была ниже 2 и больше 5\n",
    "def clip_marks(marks):\n",
    "    return marks.clip(lower=2, upper=5)\n",
    "\n",
    "marks2 = marks\n",
    "marks2[\"Геометрия\"] = clip_marks(marks2[\"Геометрия\"] - 1)   # Уменьшить на 1 балл всем по Геометрии\n",
    "marks2.loc[\"Максим\"] = clip_marks(marks.loc['Максим'] + 1)  # Увеличить на 1 балл все оценки Максиму\n",
    "marks2.loc['Борис', 'Алгебра'] = 5                          # Изменить оценку по алгебре у Бориса на 5\n",
    "marks.iloc[:, 1] = 4                                        # Изменить все оценки в столбце №2 (Геометрия) на 4\n",
    "\n",
    "print(marks2)"
   ]
  },
  {
   "cell_type": "markdown",
   "metadata": {
    "id": "F7p4R7ElC5nl"
   },
   "source": [
    "### Задание 4"
   ]
  },
  {
   "cell_type": "markdown",
   "metadata": {
    "id": "hK_5PqOSC5nn"
   },
   "source": [
    "Загрузите с Kaggle любым способом данные по ссылке: https://www.kaggle.com/datasets/spscientist/students-performance-in-exams, а затем выполните следующие задания:\n",
    "  1.  Добавить в `df` столбец *Средний балл*, в который разместите поделенную на 3 сумму оценок из трёх стобцов: *math score*, *reading score*, *writing score*. Вывести на экран результат.\n",
    "  2. Произвести группировку по полу ученика (значение в столбце *gender*). После для каждой из полученных групп, найти наименьшее, среднее, наибольшее значение в поле *Средний балл*. Вывести на экран результат."
   ]
  },
  {
   "cell_type": "code",
   "execution_count": 5,
   "metadata": {
    "id": "j4vsVB4dC5np"
   },
   "outputs": [
    {
     "data": {
      "text/html": [
       "<div>\n",
       "<style scoped>\n",
       "    .dataframe tbody tr th:only-of-type {\n",
       "        vertical-align: middle;\n",
       "    }\n",
       "\n",
       "    .dataframe tbody tr th {\n",
       "        vertical-align: top;\n",
       "    }\n",
       "\n",
       "    .dataframe thead th {\n",
       "        text-align: right;\n",
       "    }\n",
       "</style>\n",
       "<table border=\"1\" class=\"dataframe\">\n",
       "  <thead>\n",
       "    <tr style=\"text-align: right;\">\n",
       "      <th></th>\n",
       "      <th>gender</th>\n",
       "      <th>race/ethnicity</th>\n",
       "      <th>parental level of education</th>\n",
       "      <th>lunch</th>\n",
       "      <th>test preparation course</th>\n",
       "      <th>math score</th>\n",
       "      <th>reading score</th>\n",
       "      <th>writing score</th>\n",
       "      <th>Средний балл</th>\n",
       "    </tr>\n",
       "  </thead>\n",
       "  <tbody>\n",
       "    <tr>\n",
       "      <th>0</th>\n",
       "      <td>female</td>\n",
       "      <td>group B</td>\n",
       "      <td>bachelor's degree</td>\n",
       "      <td>standard</td>\n",
       "      <td>none</td>\n",
       "      <td>72</td>\n",
       "      <td>72</td>\n",
       "      <td>74</td>\n",
       "      <td>72.666667</td>\n",
       "    </tr>\n",
       "    <tr>\n",
       "      <th>1</th>\n",
       "      <td>female</td>\n",
       "      <td>group C</td>\n",
       "      <td>some college</td>\n",
       "      <td>standard</td>\n",
       "      <td>completed</td>\n",
       "      <td>69</td>\n",
       "      <td>90</td>\n",
       "      <td>88</td>\n",
       "      <td>82.333333</td>\n",
       "    </tr>\n",
       "    <tr>\n",
       "      <th>2</th>\n",
       "      <td>female</td>\n",
       "      <td>group B</td>\n",
       "      <td>master's degree</td>\n",
       "      <td>standard</td>\n",
       "      <td>none</td>\n",
       "      <td>90</td>\n",
       "      <td>95</td>\n",
       "      <td>93</td>\n",
       "      <td>92.666667</td>\n",
       "    </tr>\n",
       "    <tr>\n",
       "      <th>3</th>\n",
       "      <td>male</td>\n",
       "      <td>group A</td>\n",
       "      <td>associate's degree</td>\n",
       "      <td>free/reduced</td>\n",
       "      <td>none</td>\n",
       "      <td>47</td>\n",
       "      <td>57</td>\n",
       "      <td>44</td>\n",
       "      <td>49.333333</td>\n",
       "    </tr>\n",
       "    <tr>\n",
       "      <th>4</th>\n",
       "      <td>male</td>\n",
       "      <td>group C</td>\n",
       "      <td>some college</td>\n",
       "      <td>standard</td>\n",
       "      <td>none</td>\n",
       "      <td>76</td>\n",
       "      <td>78</td>\n",
       "      <td>75</td>\n",
       "      <td>76.333333</td>\n",
       "    </tr>\n",
       "    <tr>\n",
       "      <th>...</th>\n",
       "      <td>...</td>\n",
       "      <td>...</td>\n",
       "      <td>...</td>\n",
       "      <td>...</td>\n",
       "      <td>...</td>\n",
       "      <td>...</td>\n",
       "      <td>...</td>\n",
       "      <td>...</td>\n",
       "      <td>...</td>\n",
       "    </tr>\n",
       "    <tr>\n",
       "      <th>995</th>\n",
       "      <td>female</td>\n",
       "      <td>group E</td>\n",
       "      <td>master's degree</td>\n",
       "      <td>standard</td>\n",
       "      <td>completed</td>\n",
       "      <td>88</td>\n",
       "      <td>99</td>\n",
       "      <td>95</td>\n",
       "      <td>94.000000</td>\n",
       "    </tr>\n",
       "    <tr>\n",
       "      <th>996</th>\n",
       "      <td>male</td>\n",
       "      <td>group C</td>\n",
       "      <td>high school</td>\n",
       "      <td>free/reduced</td>\n",
       "      <td>none</td>\n",
       "      <td>62</td>\n",
       "      <td>55</td>\n",
       "      <td>55</td>\n",
       "      <td>57.333333</td>\n",
       "    </tr>\n",
       "    <tr>\n",
       "      <th>997</th>\n",
       "      <td>female</td>\n",
       "      <td>group C</td>\n",
       "      <td>high school</td>\n",
       "      <td>free/reduced</td>\n",
       "      <td>completed</td>\n",
       "      <td>59</td>\n",
       "      <td>71</td>\n",
       "      <td>65</td>\n",
       "      <td>65.000000</td>\n",
       "    </tr>\n",
       "    <tr>\n",
       "      <th>998</th>\n",
       "      <td>female</td>\n",
       "      <td>group D</td>\n",
       "      <td>some college</td>\n",
       "      <td>standard</td>\n",
       "      <td>completed</td>\n",
       "      <td>68</td>\n",
       "      <td>78</td>\n",
       "      <td>77</td>\n",
       "      <td>74.333333</td>\n",
       "    </tr>\n",
       "    <tr>\n",
       "      <th>999</th>\n",
       "      <td>female</td>\n",
       "      <td>group D</td>\n",
       "      <td>some college</td>\n",
       "      <td>free/reduced</td>\n",
       "      <td>none</td>\n",
       "      <td>77</td>\n",
       "      <td>86</td>\n",
       "      <td>86</td>\n",
       "      <td>83.000000</td>\n",
       "    </tr>\n",
       "  </tbody>\n",
       "</table>\n",
       "<p>1000 rows × 9 columns</p>\n",
       "</div>"
      ],
      "text/plain": [
       "     gender race/ethnicity parental level of education         lunch  \\\n",
       "0    female        group B           bachelor's degree      standard   \n",
       "1    female        group C                some college      standard   \n",
       "2    female        group B             master's degree      standard   \n",
       "3      male        group A          associate's degree  free/reduced   \n",
       "4      male        group C                some college      standard   \n",
       "..      ...            ...                         ...           ...   \n",
       "995  female        group E             master's degree      standard   \n",
       "996    male        group C                 high school  free/reduced   \n",
       "997  female        group C                 high school  free/reduced   \n",
       "998  female        group D                some college      standard   \n",
       "999  female        group D                some college  free/reduced   \n",
       "\n",
       "    test preparation course  math score  reading score  writing score  \\\n",
       "0                      none          72             72             74   \n",
       "1                 completed          69             90             88   \n",
       "2                      none          90             95             93   \n",
       "3                      none          47             57             44   \n",
       "4                      none          76             78             75   \n",
       "..                      ...         ...            ...            ...   \n",
       "995               completed          88             99             95   \n",
       "996                    none          62             55             55   \n",
       "997               completed          59             71             65   \n",
       "998               completed          68             78             77   \n",
       "999                    none          77             86             86   \n",
       "\n",
       "     Средний балл  \n",
       "0       72.666667  \n",
       "1       82.333333  \n",
       "2       92.666667  \n",
       "3       49.333333  \n",
       "4       76.333333  \n",
       "..            ...  \n",
       "995     94.000000  \n",
       "996     57.333333  \n",
       "997     65.000000  \n",
       "998     74.333333  \n",
       "999     83.000000  \n",
       "\n",
       "[1000 rows x 9 columns]"
      ]
     },
     "execution_count": 5,
     "metadata": {},
     "output_type": "execute_result"
    }
   ],
   "source": [
    "df = pd.read_csv('StudentsPerformance.csv')\n",
    "df['Средний балл'] = (df['math score'] + df['reading score'] + df['writing score']) / 3\n",
    "df"
   ]
  },
  {
   "cell_type": "code",
   "execution_count": 6,
   "metadata": {},
   "outputs": [
    {
     "name": "stdout",
     "output_type": "stream",
     "text": [
      "         min       mean    max\n",
      "gender                        \n",
      "female   9.0  69.569498  100.0\n",
      "male    23.0  65.837483  100.0\n"
     ]
    }
   ],
   "source": [
    "grouped = df.groupby('gender')['Средний балл'].agg(['min', 'mean', 'max'])\n",
    "print(grouped)"
   ]
  },
  {
   "cell_type": "markdown",
   "metadata": {
    "id": "JQ-VdmGclb7O"
   },
   "source": [
    "### Задание 5"
   ]
  },
  {
   "cell_type": "code",
   "execution_count": 7,
   "metadata": {
    "colab": {
     "base_uri": "https://localhost:8080/",
     "height": 143
    },
    "id": "XAJ3ZeZHqDpD",
    "outputId": "8be6484a-5233-4656-aa8c-da4194b70260"
   },
   "outputs": [
    {
     "data": {
      "text/html": [
       "<div>\n",
       "<style scoped>\n",
       "    .dataframe tbody tr th:only-of-type {\n",
       "        vertical-align: middle;\n",
       "    }\n",
       "\n",
       "    .dataframe tbody tr th {\n",
       "        vertical-align: top;\n",
       "    }\n",
       "\n",
       "    .dataframe thead th {\n",
       "        text-align: right;\n",
       "    }\n",
       "</style>\n",
       "<table border=\"1\" class=\"dataframe\">\n",
       "  <thead>\n",
       "    <tr style=\"text-align: right;\">\n",
       "      <th></th>\n",
       "      <th>group</th>\n",
       "      <th>math score</th>\n",
       "      <th>physics score</th>\n",
       "    </tr>\n",
       "  </thead>\n",
       "  <tbody>\n",
       "    <tr>\n",
       "      <th>0</th>\n",
       "      <td>group_B</td>\n",
       "      <td>51</td>\n",
       "      <td>91</td>\n",
       "    </tr>\n",
       "    <tr>\n",
       "      <th>1</th>\n",
       "      <td>group_A</td>\n",
       "      <td>92</td>\n",
       "      <td>57</td>\n",
       "    </tr>\n",
       "    <tr>\n",
       "      <th>2</th>\n",
       "      <td>group_A</td>\n",
       "      <td>53</td>\n",
       "      <td>69</td>\n",
       "    </tr>\n",
       "  </tbody>\n",
       "</table>\n",
       "</div>"
      ],
      "text/plain": [
       "     group  math score  physics score\n",
       "0  group_B          51             91\n",
       "1  group_A          92             57\n",
       "2  group_A          53             69"
      ]
     },
     "execution_count": 7,
     "metadata": {},
     "output_type": "execute_result"
    }
   ],
   "source": [
    "# Рассмотрим набор оценок на экзаменах по математике и физике студентов двух групп:\n",
    "import random\n",
    "df_marks = pd.DataFrame({'group': [\"group_A\" if random.random()>0.5 else \"group_B\" for i in range(12)],\n",
    "                         'math score': [random.randint(40,100) for _ in range(12)],\n",
    "                         'physics score': [random.randint(40,100) for _ in range(12)]})\n",
    "df_marks.head(3)"
   ]
  },
  {
   "cell_type": "markdown",
   "metadata": {
    "id": "YspYWPpblb7R"
   },
   "source": [
    "  1.  Из набора данных `df_marks` получить выборку студентов у которых по всем экзаменам набрано более 60 баллов. Результат сохранить в `df_marks2`.\n",
    "\n",
    "  2. В `df_marks2` произвести группировку по группе ученика (по значению в столбце *group*). После, используя операцию агрегации, получить для каждой группы среднее значение оценки за каждый экзамен и его разделить на 100.\n"
   ]
  },
  {
   "cell_type": "code",
   "execution_count": 8,
   "metadata": {
    "id": "iWFG15J8lb7T"
   },
   "outputs": [
    {
     "data": {
      "text/html": [
       "<div>\n",
       "<style scoped>\n",
       "    .dataframe tbody tr th:only-of-type {\n",
       "        vertical-align: middle;\n",
       "    }\n",
       "\n",
       "    .dataframe tbody tr th {\n",
       "        vertical-align: top;\n",
       "    }\n",
       "\n",
       "    .dataframe thead th {\n",
       "        text-align: right;\n",
       "    }\n",
       "</style>\n",
       "<table border=\"1\" class=\"dataframe\">\n",
       "  <thead>\n",
       "    <tr style=\"text-align: right;\">\n",
       "      <th></th>\n",
       "      <th>group</th>\n",
       "      <th>math score</th>\n",
       "      <th>physics score</th>\n",
       "    </tr>\n",
       "  </thead>\n",
       "  <tbody>\n",
       "    <tr>\n",
       "      <th>3</th>\n",
       "      <td>group_A</td>\n",
       "      <td>80.0</td>\n",
       "      <td>96.0</td>\n",
       "    </tr>\n",
       "    <tr>\n",
       "      <th>4</th>\n",
       "      <td>group_B</td>\n",
       "      <td>62.0</td>\n",
       "      <td>98.0</td>\n",
       "    </tr>\n",
       "    <tr>\n",
       "      <th>5</th>\n",
       "      <td>group_B</td>\n",
       "      <td>73.0</td>\n",
       "      <td>66.0</td>\n",
       "    </tr>\n",
       "    <tr>\n",
       "      <th>10</th>\n",
       "      <td>group_B</td>\n",
       "      <td>88.0</td>\n",
       "      <td>67.0</td>\n",
       "    </tr>\n",
       "  </tbody>\n",
       "</table>\n",
       "</div>"
      ],
      "text/plain": [
       "      group  math score  physics score\n",
       "3   group_A        80.0           96.0\n",
       "4   group_B        62.0           98.0\n",
       "5   group_B        73.0           66.0\n",
       "10  group_B        88.0           67.0"
      ]
     },
     "execution_count": 8,
     "metadata": {},
     "output_type": "execute_result"
    }
   ],
   "source": [
    "df_marks2 = df_marks.where((df_marks['math score']>=60)&(df_marks['physics score']>=60)).dropna()\n",
    "df_marks2"
   ]
  },
  {
   "cell_type": "code",
   "execution_count": 9,
   "metadata": {},
   "outputs": [
    {
     "name": "stdout",
     "output_type": "stream",
     "text": [
      "     group  math_score_mean  physics_score_mean\n",
      "0  group_A        80.000000                96.0\n",
      "1  group_B        74.333333                77.0\n",
      "     group  math_score_mean  physics_score_mean\n",
      "0  group_A         0.800000                0.96\n",
      "1  group_B         0.743333                0.77\n"
     ]
    }
   ],
   "source": [
    "aggregated_df = df_marks2.groupby('group').agg(\n",
    "    math_score_mean=('math score', 'mean'),\n",
    "    physics_score_mean=('physics score', 'mean')\n",
    ").reset_index()\n",
    "print(aggregated_df)\n",
    "\n",
    "aggregated_df[['math_score_mean', 'physics_score_mean']] /= 100\n",
    "print(aggregated_df)"
   ]
  }
 ],
 "metadata": {
  "colab": {
   "collapsed_sections": [
    "UhJ-wLBvA4gZ",
    "IoDWX58hedPX",
    "MPgVgDUTnXqw",
    "Pd6UPgq3A4gz",
    "KbkEPDssFfyr",
    "3m6tFVafqu8e",
    "OSXw3h03A4g0",
    "UJLqQ3xAA4g2",
    "y11vowo0A4g5",
    "LrF6uaPPG76N",
    "F7p4R7ElC5nl",
    "K4e_g0VZAUfJ",
    "FmsTuTudnNgg",
    "V1IxR_YSA4hU",
    "trAyUc_vA4hX",
    "iOXCHyvYA4hd",
    "sVw6j7IiVY00",
    "JQ-VdmGclb7O",
    "Re6lxzQkexKH",
    "CW3C5apftJDv",
    "OpbVU84Ytbb-",
    "9AEy2Ef6z7ZN",
    "cSgWb1rbhNRp"
   ],
   "provenance": []
  },
  "kernelspec": {
   "display_name": "Python 3",
   "language": "python",
   "name": "python3"
  },
  "language_info": {
   "codemirror_mode": {
    "name": "ipython",
    "version": 3
   },
   "file_extension": ".py",
   "mimetype": "text/x-python",
   "name": "python",
   "nbconvert_exporter": "python",
   "pygments_lexer": "ipython3",
   "version": "3.11.4"
  }
 },
 "nbformat": 4,
 "nbformat_minor": 1
}
